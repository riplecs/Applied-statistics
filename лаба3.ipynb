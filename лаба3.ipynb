{
 "cells": [
  {
   "cell_type": "code",
   "execution_count": 204,
   "id": "b60c1a47",
   "metadata": {},
   "outputs": [],
   "source": [
    "import numpy as np\n",
    "import random\n",
    "import math"
   ]
  },
  {
   "cell_type": "code",
   "execution_count": 205,
   "id": "25dea8a9",
   "metadata": {},
   "outputs": [],
   "source": [
    "z = 1.96"
   ]
  },
  {
   "cell_type": "markdown",
   "id": "a77a5159",
   "metadata": {},
   "source": [
    "##### Завдання 1\n",
    "Перевірка гіпотези однорідності: критерій пустих блоків.\n",
    "\n",
    "$X_i\\sim F(u;1), Y_i\\sim F(u;1.1)$"
   ]
  },
  {
   "cell_type": "code",
   "execution_count": 223,
   "id": "a67a8b28",
   "metadata": {},
   "outputs": [],
   "source": [
    "def empty_box(n, m, alpha_x, alpha_y):\n",
    "    ro = m//n\n",
    "    x = sorted([random.expovariate(alpha_x) for i in range(n)])\n",
    "    y = sorted([random.expovariate(alpha_y) for i in range(m)])\n",
    "    alpha = 1 if y[0] <= x[0] else 0\n",
    "    triger = False\n",
    "    y_ = y.copy()\n",
    "    for i in range(n - 1):\n",
    "        for y_i in y_:\n",
    "            if y_i <= x[i + 1] and y_i > x[i]:\n",
    "                y_ = y_[y_.index(y_i):]\n",
    "                triger = True\n",
    "                break\n",
    "        if not triger:\n",
    "            alpha += 1\n",
    "        triger = False\n",
    "    if y[-1] > x[-1]: \n",
    "        alpha += 1\n",
    "    k = math.ceil(n/(1 + ro) + math.sqrt(n)*ro/math.pow(1 + ro, 3/2)*z)\n",
    "    print('alpha_0 = ', alpha)\n",
    "    print('k = ', k)\n",
    "    print('гіпотeза H_0 прийнята' if alpha <= k else 'гіпотeза H_0 відхилена')"
   ]
  },
  {
   "cell_type": "code",
   "execution_count": 224,
   "id": "056bed09",
   "metadata": {},
   "outputs": [
    {
     "name": "stdout",
     "output_type": "stream",
     "text": [
      "\n",
      "n = 500, m = 1000\n",
      "alpha_0 =  190\n",
      "k =  184\n",
      "гіпотeза H_0 відхилена\n",
      "Wall time: 24.9 ms\n",
      "\n",
      "n = 5000, m = 10000\n",
      "alpha_0 =  1798\n",
      "k =  1721\n",
      "гіпотeза H_0 відхилена\n",
      "Wall time: 459 ms\n",
      "\n",
      "n = 50000, m = 100000\n",
      "alpha_0 =  17751\n",
      "k =  16836\n",
      "гіпотeза H_0 відхилена\n",
      "Wall time: 58.1 s\n"
     ]
    }
   ],
   "source": [
    "for i in (1, 10, 10**2):\n",
    "    print(f'\\nn = {500*i}, m = {1000*i}')\n",
    "    %time empty_box(500*i, 1000*i, 1, 1.5)"
   ]
  },
  {
   "cell_type": "markdown",
   "id": "61e059fc",
   "metadata": {},
   "source": [
    "##### Завдання 2\n",
    "Перевірка гіпотези незалежності.\n",
    "\n",
    "$(X_i,Y_i)=(\\xi_i,\\xi_i\\cdot \\eta_i), \\xi_i\\sim U(0,1), \\eta_i\\sim U(-1,1)$"
   ]
  },
  {
   "cell_type": "code",
   "execution_count": 211,
   "id": "22f38b38",
   "metadata": {},
   "outputs": [],
   "source": [
    "def Spirmen(n, v):\n",
    "    ro = abs(1 - 6*sum((i + 1 - v[i])**2 for i in range(n))/(n**2*(n - 1)))\n",
    "    crit = z/math.sqrt(n)\n",
    "    print('\\nКритерій Спірмена: ')\n",
    "    print(f'ro_{n} = ', ro)\n",
    "    print('Z_1 = ', crit)\n",
    "    print('гіпотeза H_0 прийнята' if ro < crit else 'гіпотeза H_0 відхилена')"
   ]
  },
  {
   "cell_type": "code",
   "execution_count": 212,
   "id": "1961788e",
   "metadata": {},
   "outputs": [],
   "source": [
    "def Kendall(n, v):\n",
    "    N = 0\n",
    "    for j in range(1, n):\n",
    "        for i in range(0, j):\n",
    "            if v[i] < v[j]:\n",
    "                N += 1\n",
    "    tau = abs(4*N/(n*(n - 1)) - 1)\n",
    "    crit = 2*z/(3*math.sqrt(n))\n",
    "    print('\\nКритерий Кендала: ')\n",
    "    print(f'tau_{n} = ', tau)\n",
    "    print('Z_1 = ', crit)\n",
    "    print('гіпотeза H_0 прийнята' if tau < crit else 'гіпотeза H_0 відхилена')"
   ]
  },
  {
   "cell_type": "code",
   "execution_count": 213,
   "id": "ee67aa6e",
   "metadata": {
    "scrolled": false
   },
   "outputs": [
    {
     "name": "stdout",
     "output_type": "stream",
     "text": [
      "\n",
      "n =  500\n",
      "\n",
      "Критерій Спірмена: \n",
      "ro_500 =  0.7212727855711423\n",
      "Z_1 =  0.08765386471799175\n",
      "гіпотeза H_0 відхилена\n",
      "Wall time: 998 µs\n",
      "\n",
      "Критерий Кендала: \n",
      "tau_500 =  0.5820921843687374\n",
      "Z_1 =  0.058435909811994494\n",
      "гіпотeза H_0 відхилена\n",
      "Wall time: 19 ms\n",
      "\n",
      "n =  5000\n"
     ]
    },
    {
     "name": "stderr",
     "output_type": "stream",
     "text": [
      "C:\\Users\\Daria\\AppData\\Local\\Temp/ipykernel_9820/3680173202.py:2: RuntimeWarning: overflow encountered in long_scalars\n",
      "  ro = abs(1 - 6*sum((i + 1 - v[i])**2 for i in range(n))/(n**2*(n - 1)))\n"
     ]
    },
    {
     "name": "stdout",
     "output_type": "stream",
     "text": [
      "\n",
      "Критерій Спірмена: \n",
      "ro_5000 =  1.0098413807561513\n",
      "Z_1 =  0.027718585822512663\n",
      "гіпотeза H_0 відхилена\n",
      "Wall time: 0 ns\n",
      "\n",
      "Критерий Кендала: \n",
      "tau_5000 =  0.5996568913782756\n",
      "Z_1 =  0.01847905721500844\n",
      "гіпотeза H_0 відхилена\n",
      "Wall time: 1.19 s\n",
      "\n",
      "n =  50000\n",
      "\n",
      "Критерій Спірмена: \n",
      "ro_50000 =  1.0000103716850017\n",
      "Z_1 =  0.008765386471799176\n",
      "гіпотeза H_0 відхилена\n",
      "Wall time: 31.3 ms\n",
      "\n",
      "Критерий Кендала: \n",
      "tau_50000 =  0.5878981211624232\n",
      "Z_1 =  0.005843590981199451\n",
      "гіпотeза H_0 відхилена\n",
      "Wall time: 1min 54s\n"
     ]
    }
   ],
   "source": [
    "for n in (500, 5000, 50000):\n",
    "    print('\\nn = ', n)\n",
    "    x = np.random.normal(0, 1, n)\n",
    "    y = x*np.random.normal(-1, 1, n)\n",
    "    x_sort = sorted(x)\n",
    "    y_sort = sorted(y)\n",
    "    R = np.array([x_sort.index(x_i) + 1 for x_i in x])\n",
    "    S = np.array([y_sort.index(y_i) + 1 for y_i in y])\n",
    "    V = list(S[R.argsort()])\n",
    "    %time Spirmen(n, V)\n",
    "    %time Kendall(n, V)"
   ]
  },
  {
   "cell_type": "markdown",
   "id": "74d91fd8",
   "metadata": {},
   "source": [
    "##### Завдання 3\n",
    "Перевірка гіпотези випадковості.\n",
    "\n",
    "$X_i=\\frac{\\xi_1+\\ldots+\\xi_i}{i}, i=\\overline{1,n},\\quad \\xi_i\\sim U(-1,1)$"
   ]
  },
  {
   "cell_type": "code",
   "execution_count": 219,
   "id": "d91e9038",
   "metadata": {},
   "outputs": [],
   "source": [
    "def check_accident(n):\n",
    "    x = [sum(np.random.normal(-1, 1, i))/i for i in range(1, n + 1)]\n",
    "    s = 0\n",
    "    for j in range(1, n):\n",
    "        for i in range(0, j):\n",
    "            if x[i] > x[j]:\n",
    "                s += 1\n",
    "    check = 6*(s - n*(n - 1)/4)/(n*math.sqrt(n))\n",
    "    print('Кількість інверсій: ', s)\n",
    "    print('гіпотeза H_0 прийнята' if z < check else 'гіпотeза H_0 відхилена')"
   ]
  },
  {
   "cell_type": "code",
   "execution_count": 220,
   "id": "3194cf87",
   "metadata": {},
   "outputs": [
    {
     "name": "stdout",
     "output_type": "stream",
     "text": [
      "\n",
      "n =  500\n",
      "Кількість інверсій:  61198\n",
      "гіпотeза H_0 відхилена\n",
      "Wall time: 28.9 ms\n",
      "\n",
      "n =  5000\n",
      "Кількість інверсій:  6017358\n",
      "гіпотeза H_0 відхилена\n",
      "Wall time: 3.02 s\n",
      "\n",
      "n =  50000\n",
      "Кількість інверсій:  624677184\n",
      "гіпотeза H_0 відхилена\n",
      "Wall time: 4min 31s\n"
     ]
    }
   ],
   "source": [
    "for n in (500, 5000, 50000):\n",
    "    print('\\nn = ', n)\n",
    "    %time check_accident(n)"
   ]
  },
  {
   "cell_type": "code",
   "execution_count": null,
   "id": "7c065f78",
   "metadata": {},
   "outputs": [],
   "source": []
  }
 ],
 "metadata": {
  "kernelspec": {
   "display_name": "Python 3 (ipykernel)",
   "language": "python",
   "name": "python3"
  },
  "language_info": {
   "codemirror_mode": {
    "name": "ipython",
    "version": 3
   },
   "file_extension": ".py",
   "mimetype": "text/x-python",
   "name": "python",
   "nbconvert_exporter": "python",
   "pygments_lexer": "ipython3",
   "version": "3.9.7"
  }
 },
 "nbformat": 4,
 "nbformat_minor": 5
}
