{
 "cells": [
  {
   "cell_type": "code",
   "execution_count": 180,
   "id": "b60c1a47",
   "metadata": {},
   "outputs": [],
   "source": [
    "import numpy as np\n",
    "import random\n",
    "import math"
   ]
  },
  {
   "cell_type": "code",
   "execution_count": 181,
   "id": "25dea8a9",
   "metadata": {},
   "outputs": [],
   "source": [
    "z = 1.96"
   ]
  },
  {
   "cell_type": "markdown",
   "id": "a77a5159",
   "metadata": {},
   "source": [
    "##### Завдання 1\n",
    "Перевірка гіпотези однорідності: критерій пустих блоків.\n",
    "\n",
    "$X_i\\sim F(u;1), Y_i\\sim F(u;1.1)$"
   ]
  },
  {
   "cell_type": "code",
   "execution_count": 217,
   "id": "32d37229",
   "metadata": {},
   "outputs": [],
   "source": [
    "def empty_box(n, m, alpha_x, alpha_y):\n",
    "    ro = m//n\n",
    "    x = sorted([random.expovariate(alpha_x) for i in range(n)])\n",
    "    y = sorted([random.expovariate(alpha_y) for i in range(m)])\n",
    "    v = []\n",
    "    j, alpha = 0, 0\n",
    "    alpha = 1 if y[0] > x[0] else 0\n",
    "    for i in range(1, n):\n",
    "        v_i = 0\n",
    "        while y[j] <= x[i]:\n",
    "            v_i += 1\n",
    "            j += 1\n",
    "            if j == m:\n",
    "                break\n",
    "        v.append(v_i)\n",
    "        if j == m:\n",
    "            while len(v) < n - 1:\n",
    "                v.append(0)\n",
    "            break\n",
    "    alpha = 0\n",
    "    for v_i in v:\n",
    "        if v_i == 0:\n",
    "            alpha += 1\n",
    "    if y[-1] <= x[-1]:\n",
    "        alpha += 1\n",
    "    k = math.ceil(n/(1 + ro) + math.sqrt(n)*ro*z/math.pow(1 + ro, 3/2))\n",
    "    print('alpha_0 = ', alpha)\n",
    "    print('k = ', k)\n",
    "    print('гіпотeза H_0 прийнята' if alpha <= k else 'гіпотeза H_0 відхилена')"
   ]
  },
  {
   "cell_type": "code",
   "execution_count": 218,
   "id": "056bed09",
   "metadata": {},
   "outputs": [
    {
     "name": "stdout",
     "output_type": "stream",
     "text": [
      "\n",
      "n = 500, m = 1000\n",
      "alpha_0 =  175\n",
      "k =  184\n",
      "гіпотeза H_0 прийнята\n",
      "\n",
      "n = 5000, m = 10000\n",
      "alpha_0 =  1778\n",
      "k =  1721\n",
      "гіпотeза H_0 відхилена\n",
      "\n",
      "n = 50000, m = 100000\n",
      "alpha_0 =  18326\n",
      "k =  16836\n",
      "гіпотeза H_0 відхилена\n"
     ]
    }
   ],
   "source": [
    "for i in (1, 10, 10**2):\n",
    "    print(f'\\nn = {500*i}, m = {1000*i}')\n",
    "    empty_box(500*i, 1000*i, 1, 1.6)"
   ]
  },
  {
   "cell_type": "markdown",
   "id": "61e059fc",
   "metadata": {},
   "source": [
    "##### Завдання 2\n",
    "Перевірка гіпотези незалежності.\n",
    "\n",
    "$(X_i,Y_i)=(\\xi_i,\\xi_i\\cdot \\eta_i), \\xi_i\\sim U(0,1), \\eta_i\\sim U(-1,1)$"
   ]
  },
  {
   "cell_type": "code",
   "execution_count": 220,
   "id": "a96e7555",
   "metadata": {},
   "outputs": [],
   "source": [
    "def _mergeSort(vec, t_vec, l, r, dirr):\n",
    "    inv_count = 0\n",
    "    if l < r:\n",
    "        m = (l + r)//2\n",
    "        inv_count += _mergeSort(vec, t_vec, l, m, dirr)\n",
    "        inv_count += _mergeSort(vec, t_vec, m + 1, r, dirr)\n",
    "        inv_count += merge(vec, t_vec, l, m, r, dirr)\n",
    "    return inv_count\n",
    "\n",
    "def mergeSort(vec, dirr = 'dir'):\n",
    "    t_vec = [0]*len(vec)\n",
    "    return _mergeSort(vec, t_vec, 0, len(vec) - 1, dirr)\n",
    "\n",
    "def check(x, y, dirr):\n",
    "    if dirr == 'rev':\n",
    "        return x >= y\n",
    "    return x <= y\n",
    "\n",
    "def merge(vec, t_vec, l, m, r, dirr):\n",
    "    i, k = l, l    \n",
    "    j = m + 1    \n",
    "    num = 0\n",
    "    while i <= m and j <= r:\n",
    "        if check(vec[i], vec[j], dirr):\n",
    "            t_vec[k] = vec[i]\n",
    "            k += 1\n",
    "            i += 1\n",
    "        else:\n",
    "            t_vec[k] = vec[j]\n",
    "            num += (m - i + 1)\n",
    "            k += 1\n",
    "            j += 1\n",
    "    while i <= m:\n",
    "        t_vec[k] = vec[i]\n",
    "        k += 1\n",
    "        i += 1\n",
    "    while j <= r:\n",
    "        t_vec[k] = vec[j]\n",
    "        k += 1\n",
    "        j += 1\n",
    "    for l in range(l, r + 1):\n",
    "        vec[l] = t_vec[l]\n",
    "    return num"
   ]
  },
  {
   "cell_type": "code",
   "execution_count": 221,
   "id": "22f38b38",
   "metadata": {},
   "outputs": [],
   "source": [
    "def Spirmen(n, v):\n",
    "    ro = abs(1 - 6*sum((i + 1 - v[i])**2 for i in range(n))/(n**2*(n - 1)))\n",
    "    crit = z/math.sqrt(n)\n",
    "    print('\\nКритерій Спірмена: ')\n",
    "    print(f'ro_{n} = ', ro)\n",
    "    print('Z_1 = ', crit)\n",
    "    print('гіпотeза H_0 прийнята' if ro < crit else 'гіпотeза H_0 відхилена')"
   ]
  },
  {
   "cell_type": "code",
   "execution_count": 222,
   "id": "1961788e",
   "metadata": {},
   "outputs": [],
   "source": [
    "def Kendall(n, v):\n",
    "    N = mergeSort(v, 'rev')\n",
    "    tau = abs(4*N/(n*(n - 1)) - 1)\n",
    "    crit = 2*z/(3*math.sqrt(n))\n",
    "    print('\\nКритерий Кендала: ')\n",
    "    print(f'tau_{n} = ', tau)\n",
    "    print('Z_1 = ', crit)\n",
    "    print('гіпотeза H_0 прийнята' if tau < crit else 'гіпотeза H_0 відхилена')"
   ]
  },
  {
   "cell_type": "code",
   "execution_count": 223,
   "id": "ee67aa6e",
   "metadata": {
    "scrolled": false
   },
   "outputs": [
    {
     "name": "stdout",
     "output_type": "stream",
     "text": [
      "\n",
      "n =  500\n",
      "\n",
      "Критерій Спірмена: \n",
      "ro_500 =  0.7682981643286573\n",
      "Z_1 =  0.08765386471799175\n",
      "гіпотeза H_0 відхилена\n",
      "\n",
      "Критерий Кендала: \n",
      "tau_500 =  0.6265811623246493\n",
      "Z_1 =  0.058435909811994494\n",
      "гіпотeза H_0 відхилена\n",
      "\n",
      "n =  5000\n"
     ]
    },
    {
     "name": "stderr",
     "output_type": "stream",
     "text": [
      "C:\\Users\\Daria\\AppData\\Local\\Temp/ipykernel_2748/3680173202.py:2: RuntimeWarning: overflow encountered in long_scalars\n",
      "  ro = abs(1 - 6*sum((i + 1 - v[i])**2 for i in range(n))/(n**2*(n - 1)))\n"
     ]
    },
    {
     "name": "stdout",
     "output_type": "stream",
     "text": [
      "\n",
      "Критерій Спірмена: \n",
      "ro_5000 =  1.0003192634366873\n",
      "Z_1 =  0.027718585822512663\n",
      "гіпотeза H_0 відхилена\n",
      "\n",
      "Критерий Кендала: \n",
      "tau_5000 =  0.5830503700740148\n",
      "Z_1 =  0.01847905721500844\n",
      "гіпотeза H_0 відхилена\n",
      "\n",
      "n =  50000\n",
      "\n",
      "Критерій Спірмена: \n",
      "ro_50000 =  1.0000162016124163\n",
      "Z_1 =  0.008765386471799176\n",
      "гіпотeза H_0 відхилена\n",
      "\n",
      "Критерий Кендала: \n",
      "tau_50000 =  0.5901457197143942\n",
      "Z_1 =  0.005843590981199451\n",
      "гіпотeза H_0 відхилена\n"
     ]
    }
   ],
   "source": [
    "for n in (500, 5000, 50000):\n",
    "    print('\\nn = ', n)\n",
    "    x = np.random.normal(0, 1, n)\n",
    "    y = x*np.random.normal(-1, 1, n)\n",
    "    x_sort = sorted(x)\n",
    "    y_sort = sorted(y)\n",
    "    R = np.array([x_sort.index(x_i) + 1 for x_i in x])\n",
    "    S = np.array([y_sort.index(y_i) + 1 for y_i in y])\n",
    "    V = list(S[R.argsort()])\n",
    "    Spirmen(n, V)\n",
    "    Kendall(n, V)"
   ]
  },
  {
   "cell_type": "markdown",
   "id": "74d91fd8",
   "metadata": {},
   "source": [
    "##### Завдання 3\n",
    "Перевірка гіпотези випадковості.\n",
    "\n",
    "$X_i=\\frac{\\xi_1+\\ldots+\\xi_i}{i}, i=\\overline{1,n},\\quad \\xi_i\\sim U(-1,1)$"
   ]
  },
  {
   "cell_type": "code",
   "execution_count": 205,
   "id": "7c065f78",
   "metadata": {},
   "outputs": [],
   "source": [
    "def check_accident(n):\n",
    "    x = [sum(np.random.normal(-1, 1, i))/i for i in range(1, n + 1)]\n",
    "    s = mergeSort(x)\n",
    "    check = 6*(s - n*(n - 1)/4)/(n*math.sqrt(n))\n",
    "    print('Кількість інверсій: ', s)\n",
    "    print('гіпотeза H_0 прийнята' if z < check else 'гіпотeза H_0 відхилена')"
   ]
  },
  {
   "cell_type": "code",
   "execution_count": 206,
   "id": "0493efcb",
   "metadata": {},
   "outputs": [
    {
     "name": "stdout",
     "output_type": "stream",
     "text": [
      "\n",
      "n =  500\n",
      "Кількість інверсій:  62201\n",
      "гіпотeза H_0 відхилена\n",
      "Wall time: 21 ms\n",
      "\n",
      "n =  5000\n",
      "Кількість інверсій:  6188452\n",
      "гіпотeза H_0 відхилена\n",
      "Wall time: 1.51 s\n",
      "\n",
      "n =  50000\n",
      "Кількість інверсій:  624509483\n",
      "гіпотeза H_0 відхилена\n",
      "Wall time: 2min 12s\n"
     ]
    }
   ],
   "source": [
    "for n in (500, 5000, 50000):\n",
    "    print('\\nn = ', n)\n",
    "    %time check_accident(n)"
   ]
  },
  {
   "cell_type": "code",
   "execution_count": null,
   "id": "abf15187",
   "metadata": {},
   "outputs": [],
   "source": []
  }
 ],
 "metadata": {
  "kernelspec": {
   "display_name": "Python 3 (ipykernel)",
   "language": "python",
   "name": "python3"
  },
  "language_info": {
   "codemirror_mode": {
    "name": "ipython",
    "version": 3
   },
   "file_extension": ".py",
   "mimetype": "text/x-python",
   "name": "python",
   "nbconvert_exporter": "python",
   "pygments_lexer": "ipython3",
   "version": "3.9.7"
  }
 },
 "nbformat": 4,
 "nbformat_minor": 5
}
