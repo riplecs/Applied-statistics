{
 "cells": [
  {
   "cell_type": "code",
   "execution_count": 112,
   "id": "d68a4e75",
   "metadata": {},
   "outputs": [],
   "source": [
    "from scipy.stats import chi2\n",
    "import numpy as np\n",
    "import random\n",
    "import math"
   ]
  },
  {
   "cell_type": "code",
   "execution_count": 113,
   "id": "fb187ebb",
   "metadata": {},
   "outputs": [],
   "source": [
    "gamma = 0.05\n",
    "z_kolg = 1.36\n",
    "z_lap = 1.65"
   ]
  },
  {
   "cell_type": "code",
   "execution_count": 114,
   "id": "28be6074",
   "metadata": {},
   "outputs": [],
   "source": [
    "def F_exp(u, a):\n",
    "    return 1 - math.exp(-a*u)\n",
    "\n",
    "def F_uni(u):\n",
    "    if u < 0:\n",
    "        return 0\n",
    "    elif u >= 1:\n",
    "        return 1\n",
    "    else:\n",
    "        return u"
   ]
  },
  {
   "cell_type": "markdown",
   "id": "aea6c35e",
   "metadata": {},
   "source": [
    "##### Завдання 1\n",
    "За допомогою критерія Колмогорова перевірити гіпотези:\n",
    "\n",
    "a)\t$H_0: X_i\\sim F(u;1)$, коли насправді $X_i\\sim F(u;1)$"
   ]
  },
  {
   "cell_type": "code",
   "execution_count": 126,
   "id": "14dbf33c",
   "metadata": {},
   "outputs": [],
   "source": [
    "def Kolmogorov(n, alpha_hyp, alpha_r):\n",
    "    x = sorted([random.expovariate(alpha_r) for i in range(n)])\n",
    "    D = []\n",
    "    for k in range(n):\n",
    "        D.append(max(F_exp(x[k], alpha_hyp) - (k-1)/n, k/n - F_exp(x[k], alpha_hyp)))\n",
    "    res = max(D)*math.sqrt(n)\n",
    "    '''\n",
    "    xi = [F_exp(x_i, alpha_r) for x_i in x]\n",
    "    r = max([max(F_uni(xi[k]) - (k-1)/n, k/n - F_uni(xi[k])) for k in range(n)])*math.sqrt(n)\n",
    "    print('Y_i рівномірні' if r <= z_kolg else 'Y_i не рівномірні')\n",
    "    '''\n",
    "    print('\\nn = ', n)\n",
    "    print('sqrt(n)*D(X) = ', res)\n",
    "    print('z = ', z_kolg)\n",
    "    print('гіпотeза H_0 прийнята' if res <= z_kolg else 'гіпотeза H_0 відхилена')"
   ]
  },
  {
   "cell_type": "code",
   "execution_count": 127,
   "id": "85f5ae21",
   "metadata": {},
   "outputs": [
    {
     "name": "stdout",
     "output_type": "stream",
     "text": [
      "\n",
      "n =  1000\n",
      "sqrt(n)*D(X) =  0.704207860211669\n",
      "z =  1.36\n",
      "гіпотeза H_0 прийнята\n",
      "\n",
      "n =  10000\n",
      "sqrt(n)*D(X) =  0.4887686915484135\n",
      "z =  1.36\n",
      "гіпотeза H_0 прийнята\n",
      "\n",
      "n =  100000\n",
      "sqrt(n)*D(X) =  1.2031234523356389\n",
      "z =  1.36\n",
      "гіпотeза H_0 прийнята\n"
     ]
    }
   ],
   "source": [
    "for n in(10**3, 10**4, 10**5):\n",
    "    Kolmogorov(n, 1, 1)"
   ]
  },
  {
   "cell_type": "markdown",
   "id": "dddad34a",
   "metadata": {},
   "source": [
    "b)\t$H_0: X_i\\sim F(u;1)$, коли насправді $X_i\\sim F(u;1.2)$"
   ]
  },
  {
   "cell_type": "code",
   "execution_count": 128,
   "id": "7d0fbdcd",
   "metadata": {},
   "outputs": [
    {
     "name": "stdout",
     "output_type": "stream",
     "text": [
      "\n",
      "n =  1000\n",
      "sqrt(n)*D(X) =  2.505541149352493\n",
      "z =  1.36\n",
      "гіпотeза H_0 відхилена\n",
      "\n",
      "n =  10000\n",
      "sqrt(n)*D(X) =  6.185682392952552\n",
      "z =  1.36\n",
      "гіпотeза H_0 відхилена\n",
      "\n",
      "n =  100000\n",
      "sqrt(n)*D(X) =  20.646739688431335\n",
      "z =  1.36\n",
      "гіпотeза H_0 відхилена\n"
     ]
    }
   ],
   "source": [
    "for n in(10**3, 10**4, 10**5):\n",
    "    Kolmogorov(n, 1, 1.2)"
   ]
  },
  {
   "cell_type": "markdown",
   "id": "7a8a7146",
   "metadata": {},
   "source": [
    "##### Завдання 2\n",
    "За допомогою критерія $\\chi^2$ перевірити гіпотези:\n",
    "\n",
    "a)\t$H_0: X_i\\sim F(u;1)$, коли насправді $X_i\\sim F(u;1)$"
   ]
  },
  {
   "cell_type": "code",
   "execution_count": 129,
   "id": "70a3c8fd",
   "metadata": {},
   "outputs": [],
   "source": [
    "def Pirson(n, alpha_hyp, alpha_r):\n",
    "    X = [random.expovariate(alpha_r) for i in range(n)]\n",
    "    ksi = sorted([F_exp(x, alpha_hyp) for x in X])\n",
    "    r = 30*n//1000 \n",
    "    R = np.linspace(0, 1, r + 1)\n",
    "    v, p = [], []\n",
    "    j = 0\n",
    "    for i in range(1, r + 1):\n",
    "        v_i = 0\n",
    "        while ksi[j] <= R[i]:\n",
    "            v_i += 1\n",
    "            j += 1\n",
    "            if j == n:\n",
    "                break\n",
    "        v.append(v_i)\n",
    "        if j == n:\n",
    "            while len(v) < r:\n",
    "                v.append(0)\n",
    "            break\n",
    "    pr = 1/r\n",
    "    delta = sum((v[i] - n*pr)**2/(n*pr) for i in range(r)) \n",
    "    z = chi2.ppf(1 - gamma, r - 1)\n",
    "    print('\\nn = ', n)\n",
    "    print(f'delta_{n}^({r}) = ', delta)\n",
    "    print('z = ', z)\n",
    "    print('гіпотeза H_0 прийнята' if delta <= z else 'гіпотeза H_0 відхилена')"
   ]
  },
  {
   "cell_type": "code",
   "execution_count": 130,
   "id": "d6ab0e66",
   "metadata": {
    "scrolled": true
   },
   "outputs": [
    {
     "name": "stdout",
     "output_type": "stream",
     "text": [
      "\n",
      "n =  1000\n",
      "delta_1000^(30) =  22.94\n",
      "z =  42.55696780429269\n",
      "гіпотeза H_0 прийнята\n",
      "\n",
      "n =  10000\n",
      "delta_10000^(300) =  308.35999999999973\n",
      "z =  340.3278503488595\n",
      "гіпотeза H_0 прийнята\n",
      "\n",
      "n =  100000\n",
      "delta_100000^(3000) =  3023.360000000022\n",
      "z =  3127.515431571307\n",
      "гіпотeза H_0 прийнята\n"
     ]
    }
   ],
   "source": [
    "for n in(10**3, 10**4, 10**5):\n",
    "    Pirson(n, 1, 1)"
   ]
  },
  {
   "cell_type": "markdown",
   "id": "05d91e7a",
   "metadata": {},
   "source": [
    "a)\t$H_0: X_i\\sim F(u;1)$, коли насправді $X_i\\sim F(u;1.2)$"
   ]
  },
  {
   "cell_type": "code",
   "execution_count": 131,
   "id": "e4a8e3ed",
   "metadata": {},
   "outputs": [
    {
     "name": "stdout",
     "output_type": "stream",
     "text": [
      "\n",
      "n =  1000\n",
      "delta_1000^(30) =  48.26\n",
      "z =  42.55696780429269\n",
      "гіпотeза H_0 відхилена\n",
      "\n",
      "n =  10000\n",
      "delta_10000^(300) =  627.3199999999991\n",
      "z =  340.3278503488595\n",
      "гіпотeза H_0 відхилена\n",
      "\n",
      "n =  100000\n",
      "delta_100000^(3000) =  5939.720000000032\n",
      "z =  3127.515431571307\n",
      "гіпотeза H_0 відхилена\n"
     ]
    }
   ],
   "source": [
    "for n in(10**3, 10**4, 10**5):\n",
    "    Pirson(n, 1, 1.2)"
   ]
  },
  {
   "cell_type": "markdown",
   "id": "9271e5d2",
   "metadata": {},
   "source": [
    "##### Завдання 3\n",
    "За допомогою критерія пустих ящиків (асимптотична теорема) перевірити гіпотези:\n",
    "\n",
    "a)\t$H_0: X_i\\sim F(u;1)$, коли насправді $X_i\\sim F(u;1)$"
   ]
  },
  {
   "cell_type": "code",
   "execution_count": 132,
   "id": "10749a85",
   "metadata": {},
   "outputs": [],
   "source": [
    "def empty_box(n, alpha_hyp, alpha_r, ro = 2):\n",
    "    X = [random.expovariate(alpha_r) for i in range(n)]\n",
    "    ksi = sorted([F_exp(x, alpha_hyp) for x in X])\n",
    "    r = n//ro\n",
    "    R = np.linspace(0, 1, r + 1)\n",
    "    v = []\n",
    "    j = 0\n",
    "    for i in range(1, r + 1):\n",
    "        v_i = 0\n",
    "        while ksi[j] <= R[i]:\n",
    "            v_i += 1\n",
    "            j += 1\n",
    "            if j == n:\n",
    "                break\n",
    "        v.append(v_i)\n",
    "        if j == n:\n",
    "            while len(v) < r:\n",
    "                v.append(0)\n",
    "            break\n",
    "    nu = 0\n",
    "    for v_i in v:\n",
    "        if v_i == 0:\n",
    "            nu += 1\n",
    "    e = math.exp(-ro)\n",
    "    k = math.ceil(r*e + z_lap*math.sqrt(r*e*(1 - (1 + ro)*e))) + 1\n",
    "    print('\\nn = ', n)\n",
    "    print('nu = ', nu)\n",
    "    print('k = ', k)\n",
    "    print('гіпотeза H_0 прийнята' if nu <= k else 'гіпотeза H_0 відхилена')"
   ]
  },
  {
   "cell_type": "code",
   "execution_count": 133,
   "id": "720a7c63",
   "metadata": {},
   "outputs": [
    {
     "name": "stdout",
     "output_type": "stream",
     "text": [
      "\n",
      "n =  1000\n",
      "nu =  66\n",
      "k =  80\n",
      "гіпотeза H_0 прийнята\n",
      "\n",
      "n =  10000\n",
      "nu =  670\n",
      "k =  711\n",
      "гіпотeза H_0 прийнята\n",
      "\n",
      "n =  100000\n",
      "nu =  6723\n",
      "k =  6873\n",
      "гіпотeза H_0 прийнята\n"
     ]
    }
   ],
   "source": [
    "for n in(10**3, 10**4, 10**5):\n",
    "    empty_box(n, 1, 1)"
   ]
  },
  {
   "cell_type": "markdown",
   "id": "139102d0",
   "metadata": {},
   "source": [
    "a)\t$H_0: X_i\\sim F(u;1)$, коли насправді $X_i\\sim F(u;1.2)$"
   ]
  },
  {
   "cell_type": "code",
   "execution_count": 134,
   "id": "59e8d2ad",
   "metadata": {},
   "outputs": [
    {
     "name": "stdout",
     "output_type": "stream",
     "text": [
      "\n",
      "n =  1000\n",
      "nu =  67\n",
      "k =  80\n",
      "гіпотeза H_0 прийнята\n",
      "\n",
      "n =  10000\n",
      "nu =  733\n",
      "k =  711\n",
      "гіпотeза H_0 відхилена\n",
      "\n",
      "n =  100000\n",
      "nu =  7265\n",
      "k =  6873\n",
      "гіпотeза H_0 відхилена\n"
     ]
    }
   ],
   "source": [
    "for n in(10**3, 10**4, 10**5):\n",
    "    empty_box(n, 1, 1.2)"
   ]
  },
  {
   "cell_type": "markdown",
   "id": "b0d83550",
   "metadata": {},
   "source": [
    "##### Завдання 4\n",
    "За допомогою критерія однорідності Смірнова перевірити гіпотези:\n",
    "\n",
    "a)\t$H_0: \\overline{X}^{(1)}\\sim F(u;1), \\overline{X}^{(2)}\\sim F(u;1)$, коли насправді $\\overline{X}^{(1)}\\sim F(u;1), \\overline{X}^{(2)}\\sim F(u;1)$"
   ]
  },
  {
   "cell_type": "code",
   "execution_count": 135,
   "id": "39b70095",
   "metadata": {},
   "outputs": [],
   "source": [
    "def emp_F(x, y):\n",
    "    x_ = x.copy()\n",
    "    n = len(x_)\n",
    "    emps = []\n",
    "    num = 0\n",
    "    for y_i in y:\n",
    "        x_.append(y_i)\n",
    "        x_ = sorted(x_)\n",
    "        ind = x_.index(y_i)\n",
    "        num += ind\n",
    "        emps.append(num/n)\n",
    "        x_ = x_[ind + 1:]\n",
    "    return emps"
   ]
  },
  {
   "cell_type": "code",
   "execution_count": 143,
   "id": "e869d037",
   "metadata": {},
   "outputs": [],
   "source": [
    "def Smirnov(n, alpha_x, alpha_y):\n",
    "    m = n//2\n",
    "    x = sorted([random.expovariate(alpha_x) for i in range(n)])\n",
    "    y = sorted([random.expovariate(alpha_y) for i in range(m)])\n",
    "    emps = emp_F(x, y)\n",
    "    D_plus = max((k/m - emps[k - 1]) for k in range(1, m + 1))\n",
    "    D_minus = max((emps[k - 1] - (k - 1)/m) for k in range(1, m + 1))\n",
    "    D = max(D_plus, D_minus)\n",
    "    crit = z_kolg*math.sqrt(1/n + 1/m)\n",
    "    print('\\nn = ', n)\n",
    "    print(f'D_{n},{m} = ', D)\n",
    "    print('Z_1 = ', crit)\n",
    "    print('гіпотeза H_0 прийнята' if D <= crit else 'гіпотeза H_0 відхилена')"
   ]
  },
  {
   "cell_type": "code",
   "execution_count": 139,
   "id": "afff1db2",
   "metadata": {},
   "outputs": [
    {
     "name": "stdout",
     "output_type": "stream",
     "text": [
      "\n",
      "n =  1000\n",
      "D_1000,500 =  0.027000000000000024\n",
      "Z_1 =  0.0744902678207026\n",
      "гіпотeза H_0 прийнята\n",
      "Wall time: 4.99 ms\n",
      "\n",
      "n =  10000\n",
      "D_10000,5000 =  0.01090000000000002\n",
      "Z_1 =  0.02355589098293673\n",
      "гіпотeза H_0 прийнята\n",
      "Wall time: 303 ms\n",
      "\n",
      "n =  100000\n",
      "D_100000,50000 =  0.003630000000000022\n",
      "Z_1 =  0.00744902678207026\n",
      "гіпотeза H_0 прийнята\n",
      "Wall time: 43.7 s\n"
     ]
    }
   ],
   "source": [
    "for n in(10**3, 10**4, 10**5):\n",
    "    %time Smirnov(n, 1, 1)"
   ]
  },
  {
   "cell_type": "markdown",
   "id": "ceca34a4",
   "metadata": {},
   "source": [
    "a)\t$H_0: \\overline{X}^{(1)}\\sim F(u;1), \\overline{X}^{(2)}\\sim F(u;1)$, коли насправді $\\overline{X}^{(1)}\\sim F(u;1), \\overline{X}^{(2)}\\sim F(u;1.2)$"
   ]
  },
  {
   "cell_type": "code",
   "execution_count": 142,
   "id": "e6190f7d",
   "metadata": {},
   "outputs": [
    {
     "name": "stdout",
     "output_type": "stream",
     "text": [
      "\n",
      "n =  1000\n",
      "D_1000,500 =  0.11000000000000001\n",
      "Z_1 =  0.0744902678207026\n",
      "гіпотeза H_0 відхилена\n",
      "Wall time: 6.94 ms\n",
      "\n",
      "n =  10000\n",
      "D_10000,5000 =  0.0797\n",
      "Z_1 =  0.02355589098293673\n",
      "гіпотeза H_0 відхилена\n",
      "Wall time: 321 ms\n",
      "\n",
      "n =  100000\n",
      "D_100000,50000 =  0.07203000000000004\n",
      "Z_1 =  0.00744902678207026\n",
      "гіпотeза H_0 відхилена\n",
      "Wall time: 45.2 s\n"
     ]
    }
   ],
   "source": [
    "for n in(10**3, 10**4, 10**5):\n",
    "    %time Smirnov(n, 1, 1.2)"
   ]
  },
  {
   "cell_type": "code",
   "execution_count": null,
   "id": "1e3c7bf6",
   "metadata": {},
   "outputs": [],
   "source": []
  }
 ],
 "metadata": {
  "kernelspec": {
   "display_name": "Python 3 (ipykernel)",
   "language": "python",
   "name": "python3"
  },
  "language_info": {
   "codemirror_mode": {
    "name": "ipython",
    "version": 3
   },
   "file_extension": ".py",
   "mimetype": "text/x-python",
   "name": "python",
   "nbconvert_exporter": "python",
   "pygments_lexer": "ipython3",
   "version": "3.9.7"
  }
 },
 "nbformat": 4,
 "nbformat_minor": 5
}
