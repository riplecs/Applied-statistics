{
 "cells": [
  {
   "cell_type": "code",
   "execution_count": 378,
   "id": "d68a4e75",
   "metadata": {},
   "outputs": [],
   "source": [
    "from scipy.stats import chi2\n",
    "import numpy as np\n",
    "import random\n",
    "import math"
   ]
  },
  {
   "cell_type": "code",
   "execution_count": 398,
   "id": "fb187ebb",
   "metadata": {},
   "outputs": [],
   "source": [
    "gamma = 0.05\n",
    "z_kolg = 1.36\n",
    "z_lap = 1.65"
   ]
  },
  {
   "cell_type": "code",
   "execution_count": 399,
   "id": "28be6074",
   "metadata": {},
   "outputs": [],
   "source": [
    "def F_exp(u, a):\n",
    "    return 1 - math.exp(-a*u)"
   ]
  },
  {
   "cell_type": "markdown",
   "id": "aea6c35e",
   "metadata": {},
   "source": [
    "##### Завдання 1\n",
    "За допомогою критерія Колмогорова перевірити гіпотези:\n",
    "\n",
    "a)\t$H_0: X_i\\sim F(u;1)$, коли насправді $X_i\\sim F(u;1)$"
   ]
  },
  {
   "cell_type": "code",
   "execution_count": 400,
   "id": "14dbf33c",
   "metadata": {},
   "outputs": [],
   "source": [
    "def Kolmogorov(n, alpha_hyp, alpha_r):\n",
    "    x = sorted([random.expovariate(alpha_r) for i in range(n)])\n",
    "    D = []\n",
    "    a = alpha_hyp\n",
    "    for k in range(n):\n",
    "        D.append(max(F_exp(x[k], alpha_hyp) - (k-1)/n, k/n - F_exp(x[k], alpha_hyp)))\n",
    "    res = max(D)*math.sqrt(n)\n",
    "    print('\\nn = ', n)\n",
    "    print('sqrt(n)*D(X) = ', res)\n",
    "    print('z = ', z_kolg)\n",
    "    print('гіпотeза H_0 прийнята' if res <= z_kolg else 'гіпотeза H_0 відхилена')"
   ]
  },
  {
   "cell_type": "code",
   "execution_count": 401,
   "id": "85f5ae21",
   "metadata": {},
   "outputs": [
    {
     "name": "stdout",
     "output_type": "stream",
     "text": [
      "\n",
      "n =  1000\n",
      "sqrt(n)*D(X) =  0.7037117478141661\n",
      "z =  1.36\n",
      "гіпотeза H_0 прийнята\n",
      "\n",
      "n =  10000\n",
      "sqrt(n)*D(X) =  0.5672589474977952\n",
      "z =  1.36\n",
      "гіпотeза H_0 прийнята\n",
      "\n",
      "n =  100000\n",
      "sqrt(n)*D(X) =  0.8271470234498912\n",
      "z =  1.36\n",
      "гіпотeза H_0 прийнята\n"
     ]
    }
   ],
   "source": [
    "for n in(10**3, 10**4, 10**5):\n",
    "    Kolmogorov(n, 1, 1)"
   ]
  },
  {
   "cell_type": "markdown",
   "id": "dddad34a",
   "metadata": {},
   "source": [
    "b)\t$H_0: X_i\\sim F(u;1)$, коли насправді $X_i\\sim F(u;1.2)$"
   ]
  },
  {
   "cell_type": "code",
   "execution_count": 402,
   "id": "7d0fbdcd",
   "metadata": {},
   "outputs": [
    {
     "name": "stdout",
     "output_type": "stream",
     "text": [
      "\n",
      "n =  1000\n",
      "sqrt(n)*D(X) =  2.6573527353730233\n",
      "z =  1.36\n",
      "гіпотeза H_0 відхилена\n",
      "\n",
      "n =  10000\n",
      "sqrt(n)*D(X) =  6.772769260868461\n",
      "z =  1.36\n",
      "гіпотeза H_0 відхилена\n",
      "\n",
      "n =  100000\n",
      "sqrt(n)*D(X) =  21.195156721267235\n",
      "z =  1.36\n",
      "гіпотeза H_0 відхилена\n"
     ]
    }
   ],
   "source": [
    "for n in(10**3, 10**4, 10**5):\n",
    "    Kolmogorov(n, 1, 1.2)"
   ]
  },
  {
   "cell_type": "markdown",
   "id": "7a8a7146",
   "metadata": {},
   "source": [
    "##### Завдання 2\n",
    "За допомогою критерія $\\chi^2$ перевірити гіпотези:\n",
    "\n",
    "a)\t$H_0: X_i\\sim F(u;1)$, коли насправді $X_i\\sim F(u;1)$"
   ]
  },
  {
   "cell_type": "code",
   "execution_count": 411,
   "id": "70a3c8fd",
   "metadata": {},
   "outputs": [],
   "source": [
    "def Pirson(n, alpha_hyp, alpha_r):\n",
    "    X = [random.expovariate(alpha_r) for i in range(n)]\n",
    "    ksi = sorted([F_exp(x, alpha_hyp) for x in X])\n",
    "    r = 30*n//1000 \n",
    "    R = np.linspace(0, 1, r + 1)\n",
    "    v, p = [], []\n",
    "    j = 0\n",
    "    for i in range(1, r + 1):\n",
    "        v_i = 0\n",
    "        while ksi[j] <= R[i]:\n",
    "            v_i += 1\n",
    "            j += 1\n",
    "            if j == n:\n",
    "                break\n",
    "        if j == n:\n",
    "            while len(v) < r:\n",
    "                v.append(0)\n",
    "            break\n",
    "        v.append(v_i)\n",
    "    pr = 1/r\n",
    "    delta = sum((v[i] - n*pr)**2/(n*pr) for i in range(r)) \n",
    "    z = chi2.ppf(1 - gamma, r - 1)\n",
    "    print('\\nn = ', n)\n",
    "    print(f'delta_{n}^({r}) = ', delta)\n",
    "    print('z = ', z)\n",
    "    print('гіпотeза H_0 прийнята' if delta <= z else 'гіпотeза H_0 відхилена')"
   ]
  },
  {
   "cell_type": "code",
   "execution_count": 412,
   "id": "d6ab0e66",
   "metadata": {
    "scrolled": true
   },
   "outputs": [
    {
     "name": "stdout",
     "output_type": "stream",
     "text": [
      "\n",
      "n =  1000\n",
      "delta_1000^(30) =  63.06999999999999\n",
      "z =  42.55696780429269\n",
      "гіпотeза H_0 відхилена\n",
      "\n",
      "n =  10000\n",
      "delta_10000^(300) =  330.4299999999999\n",
      "z =  340.3278503488595\n",
      "гіпотeза H_0 прийнята\n",
      "\n",
      "n =  100000\n",
      "delta_100000^(3000) =  2848.8800000000065\n",
      "z =  3127.515431571307\n",
      "гіпотeза H_0 прийнята\n"
     ]
    }
   ],
   "source": [
    "for n in(10**3, 10**4, 10**5):\n",
    "    Pirson(n, 1, 1)"
   ]
  },
  {
   "cell_type": "markdown",
   "id": "05d91e7a",
   "metadata": {},
   "source": [
    "a)\t$H_0: X_i\\sim F(u;1)$, коли насправді $X_i\\sim F(u;1.2)$"
   ]
  },
  {
   "cell_type": "code",
   "execution_count": 413,
   "id": "e4a8e3ed",
   "metadata": {},
   "outputs": [
    {
     "name": "stdout",
     "output_type": "stream",
     "text": [
      "\n",
      "n =  1000\n",
      "delta_1000^(30) =  87.28\n",
      "z =  42.55696780429269\n",
      "гіпотeза H_0 відхилена\n",
      "\n",
      "n =  10000\n",
      "delta_10000^(300) =  560.4399999999996\n",
      "z =  340.3278503488595\n",
      "гіпотeза H_0 відхилена\n",
      "\n",
      "n =  100000\n",
      "delta_100000^(3000) =  6004.08000000002\n",
      "z =  3127.515431571307\n",
      "гіпотeза H_0 відхилена\n"
     ]
    }
   ],
   "source": [
    "for n in(10**3, 10**4, 10**5):\n",
    "    Pirson(n, 1, 1.2)"
   ]
  },
  {
   "cell_type": "markdown",
   "id": "9271e5d2",
   "metadata": {},
   "source": [
    "##### Завдання 3\n",
    "За допомогою критерія пустих ящиків (асимптотична теорема) перевірити гіпотези:\n",
    "\n",
    "a)\t$H_0: X_i\\sim F(u;1)$, коли насправді $X_i\\sim F(u;1)$"
   ]
  },
  {
   "cell_type": "code",
   "execution_count": 414,
   "id": "10749a85",
   "metadata": {},
   "outputs": [],
   "source": [
    "def empty_box(n, alpha_hyp, alpha_r, ro = 2):\n",
    "    X = [random.expovariate(alpha_r) for i in range(n)]\n",
    "    ksi = sorted([F_exp(x, alpha_hyp) for x in X])\n",
    "    r = n//ro\n",
    "    R = np.linspace(0, 1, r + 1)\n",
    "    v = []\n",
    "    j = 0\n",
    "    for i in range(1, r + 1):\n",
    "        v_i = 0\n",
    "        while ksi[j] <= R[i]:\n",
    "            v_i += 1\n",
    "            j += 1\n",
    "            if j == n:\n",
    "                break\n",
    "        if j == n:\n",
    "            while len(v) < r:\n",
    "                v.append(0)\n",
    "            break\n",
    "        v.append(v_i)\n",
    "    nu = 0\n",
    "    for v_i in v:\n",
    "        if v_i == 0:\n",
    "            nu += 1\n",
    "    e = math.exp(-ro)\n",
    "    k = math.ceil(r*e + z_lap*math.sqrt(r*e*(1 - (1 + ro)*e))) + 1\n",
    "    print('\\nn = ', n)\n",
    "    print('nu = ', nu)\n",
    "    print('k = ', k)\n",
    "    print('гіпотeза H_0 прийнята' if nu <= k else 'гіпотeза H_0 відхилена')"
   ]
  },
  {
   "cell_type": "code",
   "execution_count": 415,
   "id": "720a7c63",
   "metadata": {},
   "outputs": [
    {
     "name": "stdout",
     "output_type": "stream",
     "text": [
      "\n",
      "n =  1000\n",
      "nu =  60\n",
      "k =  80\n",
      "гіпотeза H_0 прийнята\n",
      "\n",
      "n =  10000\n",
      "nu =  672\n",
      "k =  711\n",
      "гіпотeза H_0 прийнята\n",
      "\n",
      "n =  100000\n",
      "nu =  6708\n",
      "k =  6873\n",
      "гіпотeза H_0 прийнята\n"
     ]
    }
   ],
   "source": [
    "for n in(10**3, 10**4, 10**5):\n",
    "    empty_box(n, 1, 1)"
   ]
  },
  {
   "cell_type": "markdown",
   "id": "139102d0",
   "metadata": {},
   "source": [
    "a)\t$H_0: X_i\\sim F(u;1)$, коли насправді $X_i\\sim F(u;1.2)$"
   ]
  },
  {
   "cell_type": "code",
   "execution_count": 416,
   "id": "59e8d2ad",
   "metadata": {},
   "outputs": [
    {
     "name": "stdout",
     "output_type": "stream",
     "text": [
      "\n",
      "n =  1000\n",
      "nu =  68\n",
      "k =  80\n",
      "гіпотeза H_0 прийнята\n",
      "\n",
      "n =  10000\n",
      "nu =  724\n",
      "k =  711\n",
      "гіпотeза H_0 відхилена\n",
      "\n",
      "n =  100000\n",
      "nu =  7268\n",
      "k =  6873\n",
      "гіпотeза H_0 відхилена\n"
     ]
    }
   ],
   "source": [
    "for n in(10**3, 10**4, 10**5):\n",
    "    empty_box(n, 1, 1.2)"
   ]
  },
  {
   "cell_type": "markdown",
   "id": "b0d83550",
   "metadata": {},
   "source": [
    "##### Завдання 4\n",
    "За допомогою критерія однорідності Смірнова перевірити гіпотези:\n",
    "\n",
    "a)\t$H_0: \\overline{X}^{(1)}\\sim F(u;1), \\overline{X}^{(2)}\\sim F(u;1)$, коли насправді $\\overline{X}^{(1)}\\sim F(u;1), \\overline{X}^{(2)}\\sim F(u;1)$"
   ]
  },
  {
   "cell_type": "code",
   "execution_count": 417,
   "id": "3085785f",
   "metadata": {},
   "outputs": [],
   "source": [
    "def emp_F(x, u):\n",
    "    x_ = x.copy()\n",
    "    x_.append(u)\n",
    "    x_ = sorted(x_)\n",
    "    return x_.index(u)/len(x)"
   ]
  },
  {
   "cell_type": "code",
   "execution_count": 418,
   "id": "e869d037",
   "metadata": {},
   "outputs": [],
   "source": [
    "def Smirnov(n, alpha_x, alpha_y):\n",
    "    m = n//2\n",
    "    x = sorted([random.expovariate(alpha_x) for i in range(n)])\n",
    "    y = sorted([random.expovariate(alpha_y) for i in range(m)])\n",
    "    D_plus = max((k/m - emp_F(x, y[k - 1])) for k in range(1, m + 1))\n",
    "    D_minus = max((emp_F(x, y[k - 1]) - (k - 1)/m) for k in range(1, m + 1))\n",
    "    D = max(D_plus, D_minus)\n",
    "    crit = z_kolg*math.sqrt(1/n + 1/m)\n",
    "    print('\\nn = ', n)\n",
    "    print(f'D_{n},{m} = ', D)\n",
    "    print('Z_1 = ', crit)\n",
    "    print('гіпотeза H_0 прийнята' if D <= crit else 'гіпотeза H_0 відхилена')"
   ]
  },
  {
   "cell_type": "code",
   "execution_count": 419,
   "id": "afff1db2",
   "metadata": {},
   "outputs": [
    {
     "name": "stdout",
     "output_type": "stream",
     "text": [
      "\n",
      "n =  1000\n",
      "D_1000,500 =  0.08099999999999996\n",
      "Z_1 =  0.0744902678207026\n",
      "гіпотeза H_0 відхилена\n",
      "Wall time: 16.9 ms\n",
      "\n",
      "n =  10000\n",
      "D_10000,5000 =  0.009599999999999942\n",
      "Z_1 =  0.02355589098293673\n",
      "гіпотeза H_0 прийнята\n",
      "Wall time: 1.75 s\n",
      "\n",
      "n =  100000\n",
      "D_100000,50000 =  0.004049999999999998\n",
      "Z_1 =  0.00744902678207026\n",
      "гіпотeза H_0 прийнята\n",
      "Wall time: 5min 19s\n"
     ]
    }
   ],
   "source": [
    "for n in(10**3, 10**4, 10**5):\n",
    "    %time Smirnov(n, 1, 1)"
   ]
  },
  {
   "cell_type": "markdown",
   "id": "ceca34a4",
   "metadata": {},
   "source": [
    "a)\t$H_0: \\overline{X}^{(1)}\\sim F(u;1), \\overline{X}^{(2)}\\sim F(u;1)$, коли насправді $\\overline{X}^{(1)}\\sim F(u;1), \\overline{X}^{(2)}\\sim F(u;1.2)$"
   ]
  },
  {
   "cell_type": "code",
   "execution_count": 420,
   "id": "e6190f7d",
   "metadata": {},
   "outputs": [
    {
     "name": "stdout",
     "output_type": "stream",
     "text": [
      "\n",
      "n =  1000\n",
      "D_1000,500 =  0.09900000000000003\n",
      "Z_1 =  0.0744902678207026\n",
      "гіпотeза H_0 відхилена\n",
      "Wall time: 17 ms\n",
      "\n",
      "n =  10000\n",
      "D_10000,5000 =  0.06840000000000002\n",
      "Z_1 =  0.02355589098293673\n",
      "гіпотeза H_0 відхилена\n",
      "Wall time: 1.74 s\n",
      "\n",
      "n =  10000\n",
      "D_10000,5000 =  0.07130000000000003\n",
      "Z_1 =  0.02355589098293673\n",
      "гіпотeза H_0 відхилена\n",
      "Wall time: 1.71 s\n"
     ]
    }
   ],
   "source": [
    "for n in(10**3, 10**4, 10**4):\n",
    "    %time Smirnov(n, 1, 1.2)"
   ]
  }
 ],
 "metadata": {
  "kernelspec": {
   "display_name": "Python 3 (ipykernel)",
   "language": "python",
   "name": "python3"
  },
  "language_info": {
   "codemirror_mode": {
    "name": "ipython",
    "version": 3
   },
   "file_extension": ".py",
   "mimetype": "text/x-python",
   "name": "python",
   "nbconvert_exporter": "python",
   "pygments_lexer": "ipython3",
   "version": "3.9.7"
  }
 },
 "nbformat": 4,
 "nbformat_minor": 5
}
